{
 "cells": [
  {
   "cell_type": "markdown",
   "metadata": {},
   "source": [
    "# Import and setting"
   ]
  },
  {
   "cell_type": "code",
   "execution_count": 1,
   "metadata": {},
   "outputs": [],
   "source": [
    "# ---------- import\n",
    "import pickle\n",
    "\n",
    "import matplotlib.pyplot as plt\n",
    "import numpy as np\n",
    "import pandas as pd\n",
    "\n",
    "%matplotlib inline"
   ]
  },
  {
   "cell_type": "code",
   "execution_count": 2,
   "metadata": {},
   "outputs": [],
   "source": [
    "# ---------- figure size\n",
    "plt.rcParams['figure.figsize'] =[8, 6]\n",
    "\n",
    "# ---------- axes\n",
    "plt.rcParams['axes.grid'] = True\n",
    "plt.rcParams['axes.linewidth'] = 1.5\n",
    "\n",
    "# ---------- ticks\n",
    "plt.rcParams['xtick.direction'] = 'in'\n",
    "plt.rcParams['ytick.direction'] = 'in'\n",
    "plt.rcParams['xtick.major.width'] = 1.0\n",
    "plt.rcParams['ytick.major.width'] = 1.0\n",
    "plt.rcParams['xtick.major.size'] = 8.0\n",
    "plt.rcParams['ytick.major.size'] = 8.0\n",
    "\n",
    "# ---------- lines\n",
    "plt.rcParams['lines.linewidth'] = 2.5\n",
    "\n",
    "# ---------- grid\n",
    "plt.rcParams['grid.linestyle'] = ':'\n",
    "\n",
    "# ---------- font\n",
    "plt.rcParams['font.size'] = 20\n",
    "#plt.rcParams['pdf.fonttype'] = 42    # embed fonts in PDF using type42 (True type)"
   ]
  },
  {
   "cell_type": "markdown",
   "metadata": {},
   "source": [
    "# Data"
   ]
  },
  {
   "cell_type": "code",
   "execution_count": 3,
   "metadata": {},
   "outputs": [],
   "source": [
    "def load_pkl(filename):\n",
    "    with open(filename, 'rb') as f:\n",
    "        return pickle.load(f)"
   ]
  },
  {
   "cell_type": "code",
   "execution_count": 4,
   "metadata": {},
   "outputs": [
    {
     "data": {
      "text/html": [
       "<div>\n",
       "<style scoped>\n",
       "    .dataframe tbody tr th:only-of-type {\n",
       "        vertical-align: middle;\n",
       "    }\n",
       "\n",
       "    .dataframe tbody tr th {\n",
       "        vertical-align: top;\n",
       "    }\n",
       "\n",
       "    .dataframe thead th {\n",
       "        text-align: right;\n",
       "    }\n",
       "</style>\n",
       "<table border=\"1\" class=\"dataframe\">\n",
       "  <thead>\n",
       "    <tr style=\"text-align: right;\">\n",
       "      <th></th>\n",
       "      <th>Gen</th>\n",
       "      <th>Spg_num</th>\n",
       "      <th>Spg_sym</th>\n",
       "      <th>Spg_num_opt</th>\n",
       "      <th>Spg_sym_opt</th>\n",
       "      <th>E_eV_atom</th>\n",
       "      <th>Magmom</th>\n",
       "      <th>Opt</th>\n",
       "    </tr>\n",
       "  </thead>\n",
       "  <tbody>\n",
       "    <tr>\n",
       "      <th>14</th>\n",
       "      <td>2</td>\n",
       "      <td>1</td>\n",
       "      <td>P1</td>\n",
       "      <td>1</td>\n",
       "      <td>P1</td>\n",
       "      <td>-3.393278</td>\n",
       "      <td>NaN</td>\n",
       "      <td>done</td>\n",
       "    </tr>\n",
       "    <tr>\n",
       "      <th>13</th>\n",
       "      <td>2</td>\n",
       "      <td>1</td>\n",
       "      <td>P1</td>\n",
       "      <td>1</td>\n",
       "      <td>P1</td>\n",
       "      <td>-3.391829</td>\n",
       "      <td>NaN</td>\n",
       "      <td>done</td>\n",
       "    </tr>\n",
       "    <tr>\n",
       "      <th>0</th>\n",
       "      <td>1</td>\n",
       "      <td>225</td>\n",
       "      <td>Fm-3m</td>\n",
       "      <td>225</td>\n",
       "      <td>Fm-3m</td>\n",
       "      <td>-3.372851</td>\n",
       "      <td>NaN</td>\n",
       "      <td>done</td>\n",
       "    </tr>\n",
       "    <tr>\n",
       "      <th>12</th>\n",
       "      <td>2</td>\n",
       "      <td>1</td>\n",
       "      <td>P1</td>\n",
       "      <td>1</td>\n",
       "      <td>P1</td>\n",
       "      <td>-3.362621</td>\n",
       "      <td>NaN</td>\n",
       "      <td>done</td>\n",
       "    </tr>\n",
       "    <tr>\n",
       "      <th>11</th>\n",
       "      <td>2</td>\n",
       "      <td>1</td>\n",
       "      <td>P1</td>\n",
       "      <td>1</td>\n",
       "      <td>P1</td>\n",
       "      <td>-3.359817</td>\n",
       "      <td>NaN</td>\n",
       "      <td>done</td>\n",
       "    </tr>\n",
       "    <tr>\n",
       "      <th>10</th>\n",
       "      <td>2</td>\n",
       "      <td>1</td>\n",
       "      <td>P1</td>\n",
       "      <td>1</td>\n",
       "      <td>P1</td>\n",
       "      <td>-3.323470</td>\n",
       "      <td>NaN</td>\n",
       "      <td>done</td>\n",
       "    </tr>\n",
       "    <tr>\n",
       "      <th>5</th>\n",
       "      <td>1</td>\n",
       "      <td>221</td>\n",
       "      <td>Pm-3m</td>\n",
       "      <td>221</td>\n",
       "      <td>Pm-3m</td>\n",
       "      <td>-3.231275</td>\n",
       "      <td>NaN</td>\n",
       "      <td>done</td>\n",
       "    </tr>\n",
       "    <tr>\n",
       "      <th>4</th>\n",
       "      <td>1</td>\n",
       "      <td>76</td>\n",
       "      <td>P4_1</td>\n",
       "      <td>76</td>\n",
       "      <td>P4_1</td>\n",
       "      <td>-3.230274</td>\n",
       "      <td>NaN</td>\n",
       "      <td>done</td>\n",
       "    </tr>\n",
       "    <tr>\n",
       "      <th>16</th>\n",
       "      <td>2</td>\n",
       "      <td>160</td>\n",
       "      <td>R3m</td>\n",
       "      <td>160</td>\n",
       "      <td>R3m</td>\n",
       "      <td>-3.175597</td>\n",
       "      <td>NaN</td>\n",
       "      <td>done</td>\n",
       "    </tr>\n",
       "    <tr>\n",
       "      <th>2</th>\n",
       "      <td>1</td>\n",
       "      <td>137</td>\n",
       "      <td>P4_2/nmc</td>\n",
       "      <td>129</td>\n",
       "      <td>P4/nmm</td>\n",
       "      <td>-3.143112</td>\n",
       "      <td>NaN</td>\n",
       "      <td>done</td>\n",
       "    </tr>\n",
       "  </tbody>\n",
       "</table>\n",
       "</div>"
      ],
      "text/plain": [
       "    Gen  Spg_num   Spg_sym  Spg_num_opt Spg_sym_opt  E_eV_atom  Magmom   Opt\n",
       "14    2        1        P1            1          P1  -3.393278     NaN  done\n",
       "13    2        1        P1            1          P1  -3.391829     NaN  done\n",
       "0     1      225     Fm-3m          225       Fm-3m  -3.372851     NaN  done\n",
       "12    2        1        P1            1          P1  -3.362621     NaN  done\n",
       "11    2        1        P1            1          P1  -3.359817     NaN  done\n",
       "10    2        1        P1            1          P1  -3.323470     NaN  done\n",
       "5     1      221     Pm-3m          221       Pm-3m  -3.231275     NaN  done\n",
       "4     1       76      P4_1           76        P4_1  -3.230274     NaN  done\n",
       "16    2      160       R3m          160         R3m  -3.175597     NaN  done\n",
       "2     1      137  P4_2/nmc          129      P4/nmm  -3.143112     NaN  done"
      ]
     },
     "execution_count": 4,
     "metadata": {},
     "output_type": "execute_result"
    }
   ],
   "source": [
    "rslt_data = load_pkl('./pkl_data/rslt_data.pkl')\n",
    "\n",
    "# ---------- sort Selection\n",
    "#rslt_data.head(10)\n",
    "\n",
    "# ---------- sort by Energy\n",
    "rslt_data.sort_values(by=['E_eV_atom']).head(10)"
   ]
  },
  {
   "cell_type": "code",
   "execution_count": 6,
   "metadata": {},
   "outputs": [
    {
     "name": "stdout",
     "output_type": "stream",
     "text": [
      "Number of generation: 2\n",
      "Number of data: 20\n",
      "Success: 19\n",
      "Error: 1\n",
      "Emin: -3.3932775625 eV/atom\n"
     ]
    }
   ],
   "source": [
    "# ---------- Generation\n",
    "gmax = rslt_data['Gen'].max()\n",
    "print('Number of generation: {}'.format(gmax))\n",
    "\n",
    "# ---------- Number of structures\n",
    "ndata = len(rslt_data)\n",
    "print('Number of data: {}'.format(ndata))\n",
    "\n",
    "# ---------- check success and error\n",
    "nsuccess = rslt_data['E_eV_atom'].count()\n",
    "nerror = ndata - nsuccess\n",
    "print('Success: {}'.format(nsuccess))\n",
    "print('Error: {}'.format(nerror))\n",
    "\n",
    "# ---------- minimum\n",
    "Emin = rslt_data['E_eV_atom'].min()\n",
    "print('Emin: {} eV/atom'.format(Emin))"
   ]
  },
  {
   "cell_type": "markdown",
   "metadata": {},
   "source": [
    "# Energy vs. trial"
   ]
  },
  {
   "cell_type": "code",
   "execution_count": 7,
   "metadata": {},
   "outputs": [
    {
     "data": {
      "text/plain": [
       "Text(0, 0.5, 'Energy (eV/atom)')"
      ]
     },
     "execution_count": 7,
     "metadata": {},
     "output_type": "execute_result"
    },
    {
     "data": {
      "image/png": "[encoded data removed]",
      "text/plain": [
       "<Figure size 576x432 with 1 Axes>"
      ]
     },
     "metadata": {
      "needs_background": "light"
     },
     "output_type": "display_data"
    }
   ],
   "source": [
    "fig, ax = plt.subplots()\n",
    "\n",
    "# ---------- axis\n",
    "dx = 1    # margin in xtick\n",
    "ax.set_xlim([1-dx, ndata+dx])\n",
    "ax.set_ylim([-0.5, 3])\n",
    "\n",
    "# ---------- hline at zero\n",
    "ax.hlines(0.0, -dx, ndata+dx, 'k', '--')\n",
    "\n",
    "# ---------- plot\n",
    "#ax.plot(rslt_data['E_eV_atom'] - Emin, 'o', ms=15, mew=2.0, alpha=0.8)\n",
    "\n",
    "\n",
    "# ---------- color coded by generation  \n",
    "tx = 0\n",
    "for g in range(1, gmax+1):    # generation starts from 1\n",
    "    gfilter = rslt_data['Gen'] == g\n",
    "    num = len(rslt_data[gfilter])\n",
    "    x = np.arange(1, num+1) + tx\n",
    "    ax.plot(x, rslt_data['E_eV_atom'][gfilter] - Emin, 'o', ms=15, mew=2.0, alpha=0.8)\n",
    "    tx += num\n",
    "\n",
    "# ---------- title and label\n",
    "ax.set_title('Evolutionary algorithm for Na$_8$Cl$_8$')\n",
    "ax.set_xlabel('Number of trials')\n",
    "ax.set_ylabel('Energy (eV/atom)')"
   ]
  },
  {
   "cell_type": "code",
   "execution_count": 8,
   "metadata": {},
   "outputs": [],
   "source": [
    "# ---------- save figure\n",
    "fig.savefig('Na8Cl8_EA.png', bbox_inches='tight')    # PNG\n",
    "#fig.savefig('title_RS.png', bbox_inches='tight', dpi=300)    # high dpi PNG\n",
    "#fig.savefig('title_RS.pdf', bbox_inches='tight')    # PDF"
   ]
  }
 ],
 "metadata": {
  "anaconda-cloud": {},
  "kernelspec": {
   "display_name": "Python 3",
   "language": "python",
   "name": "python3"
  },
  "language_info": {
   "codemirror_mode": {
    "name": "ipython",
    "version": 3
   },
   "file_extension": ".py",
   "mimetype": "text/x-python",
   "name": "python",
   "nbconvert_exporter": "python",
   "pygments_lexer": "ipython3",
   "version": "3.7.5"
  },
  "toc": {
   "nav_menu": {
    "height": "84px",
    "width": "252px"
   },
   "number_sections": true,
   "sideBar": true,
   "skip_h1_title": false,
   "toc_cell": false,
   "toc_position": {},
   "toc_section_display": "block",
   "toc_window_display": true
  }
 },
 "nbformat": 4,
 "nbformat_minor": 4
}
